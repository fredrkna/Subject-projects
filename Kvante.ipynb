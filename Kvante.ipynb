{
 "cells": [
  {
   "cell_type": "code",
   "execution_count": 4,
   "metadata": {
    "collapsed": false,
    "slideshow": {
     "slide_type": "notes"
    }
   },
   "outputs": [
    {
     "name": "stdout",
     "output_type": "stream",
     "text": [
      "0.751125544466\n"
     ]
    },
    {
     "data": {
      "text/plain": [
       "'\\n\\n#Problem 2:\\n#Propagate the wave from x=0 to x=15, iterating through time.\\n\\ndef psi_complex(x_s, x_end, N_x, sigma_x, V):\\n    dx=L/(N_x-1)\\n    T=1.1*L/(2*v_g)\\n    dt = 0.01*hbar/(hbar**2/(2*m*dx**2)+max(V)) \\n    N_t=int(T/dt)\\n    V, x, psi_0, prob_0, C=psi_complex_0(0, dt, x_s, sigma_x, N_x)\\n    print(N_t)\\n \\n    psi=np.zeros((N_t,N_x), dtype=np.complex64)\\n    psi[0]=psi_0\\n    prob_list=np.array(prob_0)\\n\\n    for t in range(N_t-1):\\n        for i in range(1, N_x-1):\\n            psi.imag[t+1,i]=psi.imag[t,i]-dt*(V[i]/hbar*psi.real[t,i]-\\n                    hbar/(2*m*dx**2)*(psi.real[t,i-1]-2*psi.real[t,i]+psi.real[t,i+1]))\\n\\n             \\n        for i in range(1, N_x-1):\\n            psi.real[t+1,i]=psi.real[t,i]+dt*(V[i]/hbar*psi.imag[t+1,i]-\\n                    hbar/(2*m*dx**2)*(psi.imag[t+1,i-1]-2*psi.imag[t+1,i]+psi.imag[t+1,i+1]))\\n   \\n\\n        if t%4000==0:\\n            plt.figure(t//4000+3)\\n            plt.plot(x, psi[t].real, label=\"Real part\")\\n            plt.plot(x, psi[t].imag, label=\"Imaginary part\")\\n            plt.legend()\\n        if t==N_t-2:\\n            plt.figure(t//4000+4)\\n            plt.plot(x, psi[t].real, label=\"Real part\")\\n            plt.plot(x, psi[t].imag, label=\"Imaginary part\")\\n    return x, psi\\n\\nx, psi=psi_complex(5, 15, 500, 1, V)\\n\\n\\nplt.show()\\n\\n'"
      ]
     },
     "execution_count": 4,
     "metadata": {},
     "output_type": "execute_result"
    }
   ],
   "source": [
    "%matplotlib notebook\n",
    "import numpy as np\n",
    "from matplotlib import pyplot as plt\n",
    "\n",
    "hbar=1\n",
    "m=1\n",
    "k_0=20\n",
    "L=20\n",
    "v_g=hbar*k_0/m\n",
    "\n",
    "E=hbar**2*k_0**2/(2*m)\n",
    "omega=E/hbar\n",
    "\n",
    "#Problem 1:\n",
    "#Plot psi at initial time t=0 and find the normalizing constant C for psi.\n",
    "\n",
    "def psi_complex_0(t, x_s, sigma_x, N_x):\n",
    "    dx=L/(N_x-1)\n",
    "    psi=np.array(N_x*[0],dtype=np.complex64)\n",
    "    probability_func=np.array(N_x*[0])\n",
    "    x=np.linspace(0,L,N_x)\n",
    "    psi=np.exp(-(x-x_s)**2/(2*sigma_x**2))*np.exp(1j*(k_0*x-omega*t))\n",
    "    psi[0]=psi[-1]=0\n",
    "    C = 1/np.sqrt((np.sum(psi.real**2)+np.sum(psi.imag**2))*dx)\n",
    "    probability_func=np.exp(-(x-x_s)**2/(sigma_x**2))\n",
    "#    C=(np.sum(probability_func)*dx)**(-1)\n",
    "    return x, C*psi, C**2*probability_func, C\n",
    "\n",
    "\n",
    "    \n",
    "x_list, psi_complex, probsprobs, C=(psi_complex_0(0, 5, 1.5, 1000))\n",
    "#print(probsprobs)\n",
    "\n",
    "print(C)\n",
    "\n",
    "\n",
    "plt.figure(1)\n",
    "plt.plot(x_list, C*np.real(psi_complex), label=\"Real part\")\n",
    "plt.plot(x_list, C*np.imag(psi_complex), label=\"Imaginary part\")\n",
    "plt.title(\"Psi at t=0\")\n",
    "plt.xlabel(\"x\")\n",
    "plt.ylabel(\"y\")\n",
    "plt.plot(x_list, C*probsprobs, label=\"Probability function\")\n",
    "plt.legend()\n",
    "\n",
    "\n",
    "#Problem 2:\n",
    "#Propagate the wave from x=0 to x=15, iterating through time.\n",
    "\n",
    "def psi_complex(x_s, x_end, N_x, sigma_x, l, V_0):  \n",
    "    \n",
    "    dx=L/(N_x-1)\n",
    "    V=np.zeros(N_x)\n",
    "    V_start=int((L/2-l/2)/dx)\n",
    "    V_end=int((L/2+l/2)/dx)\n",
    "    V[V_start:V_end]=V_0\n",
    "    T=1.1*(x_end-x_s)/v_g \n",
    "    dt = 0.03*hbar/(hbar**2/(2*m*dx**2)+max(V)) \n",
    "    N_t=int(T/dt)\n",
    "    x, psi_0, prob_0, C=psi_complex_0(0, x_s, sigma_x, N_x)\n",
    "\n",
    " \n",
    "    psi=np.zeros((N_t,N_x), dtype=np.complex64)\n",
    "    psi[0]=psi_0\n",
    "    prob_list=np.zeros((N_t, N_x))\n",
    "    prob_list[0]=prob_0\n",
    "    for t in range(N_t-1):\n",
    "        psi.imag[t+1][1:-1]=psi.imag[t][1:-1]-dt*(V[1:-1]/hbar*psi.real[t][1:-1]-\n",
    "            hbar/(2*m*dx**2)*(psi.real[t][:-2]-2*psi.real[t][1:-1]+psi.real[t][2:]))\n",
    "            \n",
    "        psi.real[t+1][1:-1]=psi.real[t][1:-1]+dt*(V[1:-1]/hbar*psi.imag[t+1][1:-1]-\n",
    "            hbar/(2*m*dx**2)*(psi.imag[t+1][:-2]-2*psi.imag[t+1][1:-1]+psi.imag[t+1][2:])) \n",
    "        \n",
    "        prob_list[t+1]=C**2*(psi[t+1].real**2+(psi[t+1].imag)**2)\n",
    "\n",
    "\n",
    "\n",
    "    return x, psi, prob_list, dx, V_start, V_end, N_t\n",
    "\n",
    "x, psi, prob, dx, V_start, V_end, N_t=psi_complex(5, 15, 1000, 0.5, L/50, 0.5*E) \n",
    "\n",
    "plt.figure(2)\n",
    "plt.plot(x, prob[0], label=\"Probability function\")\n",
    "plt.plot(x, psi[0].imag, label=\"Imaginary part\")\n",
    "plt.plot(x, psi[0].real, label=\"Real part\")\n",
    "#plt.plot(x, prob[N_t-2], label=\"Probability function\")\n",
    "#plt.plot(x, psi[N_t-2].imag, label=\"Imaginary part\")\n",
    "#plt.plot(x, psi[N_t-2].real, label=\"Real part\")\n",
    "#plt.plot(x, V/300, label=\"Potential barrier\")\n",
    "\n",
    "           \n",
    "plt.legend()\n",
    "\n",
    "\n",
    "plt.show()"
   ]
  }
 ],
 "metadata": {
  "celltoolbar": "Slideshow",
  "kernelspec": {
   "display_name": "Python [Root]",
   "language": "python",
   "name": "Python [Root]"
  },
  "language_info": {
   "codemirror_mode": {
    "name": "ipython",
    "version": 3
   },
   "file_extension": ".py",
   "mimetype": "text/x-python",
   "name": "python",
   "nbconvert_exporter": "python",
   "pygments_lexer": "ipython3",
   "version": "3.5.2"
  }
 },
 "nbformat": 4,
 "nbformat_minor": 0
}
